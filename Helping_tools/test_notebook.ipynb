{
 "cells": [
  {
   "cell_type": "code",
   "execution_count": 2,
   "metadata": {},
   "outputs": [
    {
     "name": "stderr",
     "output_type": "stream",
     "text": [
      "/Users/Q642074/miniconda3/envs/qiro/lib/python3.9/site-packages/tqdm/auto.py:21: TqdmWarning: IProgress not found. Please update jupyter and ipywidgets. See https://ipywidgets.readthedocs.io/en/stable/user_install.html\n",
      "  from .autonotebook import tqdm as notebook_tqdm\n"
     ]
    }
   ],
   "source": [
    "# load the module\n",
    "%load_ext autoreload\n",
    "%autoreload 2\n",
    "\n",
    "import sys \n",
    "sys.path.append(\"../Qtensor\")\n",
    "sys.path.append(\"../Qtensor/qtree_git\")\n",
    "sys.path.append(\"../Qtensor/qtree_git/qtree\")\n",
    "sys.path.append(\"..\")\n",
    "\n",
    "\n",
    "from qtensor import ZZQtreeQAOAComposer, ZZQtreeQAOAComposer_MIS, ZZQtreeQAOAComposer_MAXCUT\n",
    "from qtensor import QAOAQtreeSimulator, QAOAQtreeSimulator_MIS, QAOAQtreeSimulator_MAXCUT\n",
    "from qtensor.contraction_backends import TorchBackend\n",
    "import Generating_Problems as Generator\n",
    "from Calculating_Expectation_Values import SingleLayerQAOAExpectationValues, QtensorQAOAExpectationValuesMIS,QtensorQAOAExpectationValuesMAXCUT,QtensorQAOAExpectationValuesQUBO\n",
    "from QIRO import QIRO_MIS\n",
    "import RQAOA\n",
    "import torch\n",
    "import qtensor\n",
    "import networkx as nx\n",
    "import numpy as np\n",
    "from scipy.optimize import minimize\n",
    "import tqdm\n",
    "from scipy.optimize import Bounds\n",
    "import pprint\n",
    "from functools import partial\n",
    "import random\n",
    "import json\n",
    "import matplotlib.pyplot as plt"
   ]
  },
  {
   "cell_type": "code",
   "execution_count": 3,
   "metadata": {},
   "outputs": [],
   "source": [
    "import networkx as nx\n"
   ]
  },
  {
   "cell_type": "code",
   "execution_count": 4,
   "metadata": {},
   "outputs": [
    {
     "name": "stdout",
     "output_type": "stream",
     "text": [
      "[(0, 1), (0, 3), (0, 2), (1, 4), (1, 3), (2, 4), (2, 5), (4, 5), (3, 5)]\n",
      "[(0, 1), (0, 2), (1, 4), (2, 4), (2, 5), (4, 5)]\n"
     ]
    }
   ],
   "source": [
    "graph = nx.random_regular_graph(3, 6)\n",
    "print(graph.edges())\n",
    "nodes = list(graph)\n",
    "nodes.remove(3)\n",
    "graph2 = graph.subgraph(nodes).copy()\n",
    "\n",
    "print(graph2.edges())\n"
   ]
  },
  {
   "cell_type": "code",
   "execution_count": 7,
   "metadata": {},
   "outputs": [
    {
     "data": {
      "text/plain": [
       "2"
      ]
     },
     "execution_count": 7,
     "metadata": {},
     "output_type": "execute_result"
    }
   ],
   "source": [
    "l = list((1, 2))\n",
    "l[1]"
   ]
  },
  {
   "cell_type": "code",
   "execution_count": 52,
   "metadata": {},
   "outputs": [],
   "source": [
    "graph = nx.random_regular_graph(3, 6)\n",
    "\n",
    "problem = Generator.MIS(graph)\n",
    "expectation_values_qtensor = QtensorQAOAExpectationValuesQUBO(problem, 2, initialization='random', opt=torch.optim.SGD, opt_kwargs=dict(lr=0.0001))\n",
    "#expectation_values_qtensor = QtensorQAOAExpectationValuesMAXCUT(problem, p, initialization='fixed_angles_optimization', opt=torch.optim.SGD, opt_kwargs=dict(lr=0.0001))    \n",
    "#RQAOA_qtensor = RQAOA(expectation_values_qtensor, 5, type_of_problem=\"MAXCUT\")\n",
    "RQAOA_qtensor = RQAOA.RQAOA(expectation_values_qtensor, 5, type_of_problem=\"MAXCUT\")"
   ]
  },
  {
   "cell_type": "code",
   "execution_count": 55,
   "metadata": {},
   "outputs": [
    {
     "name": "stdout",
     "output_type": "stream",
     "text": [
      "[[0.    0.    0.    0.    0.    0.    0.   ]\n",
      " [0.    0.325 0.    0.    0.    0.    0.   ]\n",
      " [0.    0.275 0.325 0.    0.    0.    0.   ]\n",
      " [0.    0.275 0.    0.325 0.    0.    0.   ]\n",
      " [0.    0.    0.    0.275 0.325 0.    0.   ]\n",
      " [0.    0.275 0.275 0.    0.275 0.325 0.   ]\n",
      " [0.    0.    0.275 0.275 0.275 0.    0.325]]\n"
     ]
    }
   ],
   "source": [
    "print(problem.matrix)"
   ]
  },
  {
   "cell_type": "code",
   "execution_count": null,
   "metadata": {},
   "outputs": [],
   "source": []
  },
  {
   "cell_type": "code",
   "execution_count": 43,
   "metadata": {},
   "outputs": [
    {
     "data": {
      "text/plain": [
       "array([0, 1, 2])"
      ]
     },
     "execution_count": 43,
     "metadata": {},
     "output_type": "execute_result"
    }
   ],
   "source": [
    "ps=[1, 2, 3]\n",
    "x = np.arange(len(ps))\n",
    "x"
   ]
  },
  {
   "cell_type": "code",
   "execution_count": null,
   "metadata": {},
   "outputs": [],
   "source": []
  },
  {
   "cell_type": "code",
   "execution_count": null,
   "metadata": {},
   "outputs": [],
   "source": []
  },
  {
   "cell_type": "code",
   "execution_count": null,
   "metadata": {},
   "outputs": [],
   "source": []
  }
 ],
 "metadata": {
  "kernelspec": {
   "display_name": "env5",
   "language": "python",
   "name": "python3"
  },
  "language_info": {
   "codemirror_mode": {
    "name": "ipython",
    "version": 3
   },
   "file_extension": ".py",
   "mimetype": "text/x-python",
   "name": "python",
   "nbconvert_exporter": "python",
   "pygments_lexer": "ipython3",
   "version": "3.9.18"
  },
  "orig_nbformat": 4
 },
 "nbformat": 4,
 "nbformat_minor": 2
}
