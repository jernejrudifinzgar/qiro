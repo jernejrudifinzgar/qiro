{
 "cells": [
  {
   "cell_type": "code",
   "execution_count": 10,
   "metadata": {},
   "outputs": [
    {
     "name": "stdout",
     "output_type": "stream",
     "text": [
      "The autoreload extension is already loaded. To reload it, use:\n",
      "  %reload_ext autoreload\n"
     ]
    }
   ],
   "source": [
    "# load the module\n",
    "%load_ext autoreload\n",
    "%autoreload 2\n",
    "\n",
    "import sys \n",
    "sys.path.append(\"../Qtensor\")\n",
    "sys.path.append(\"../Qtensor/qtree_git\")\n",
    "sys.path.append(\"../Qtensor/qtree_git/qtree\")\n",
    "sys.path.append(\"..\")\n",
    "\n",
    "\n",
    "from qtensor import ZZQtreeQAOAComposer, ZZQtreeQAOAComposer_MIS, ZZQtreeQAOAComposer_MAXCUT\n",
    "from qtensor import QAOAQtreeSimulator, QAOAQtreeSimulator_MIS, QAOAQtreeSimulator_MAXCUT\n",
    "from qtensor.contraction_backends import TorchBackend\n",
    "import Generating_Problems as Generator\n",
    "from Calculating_Expectation_Values import SingleLayerQAOAExpectationValues, QtensorQAOAExpectationValuesMIS,QtensorQAOAExpectationValuesMAXCUT,QtensorQAOAExpectationValuesQUBO\n",
    "from QIRO import QIRO_MIS\n",
    "import RQAOA\n",
    "import torch\n",
    "import qtensor\n",
    "import networkx as nx\n",
    "import numpy as np\n",
    "from scipy.optimize import minimize\n",
    "import tqdm\n",
    "from scipy.optimize import Bounds\n",
    "import pprint\n",
    "from functools import partial\n",
    "import random\n",
    "import json\n",
    "import matplotlib.pyplot as plt"
   ]
  },
  {
   "cell_type": "code",
   "execution_count": 1,
   "metadata": {},
   "outputs": [],
   "source": [
    "import networkx as nx\n"
   ]
  },
  {
   "cell_type": "code",
   "execution_count": 4,
   "metadata": {},
   "outputs": [
    {
     "name": "stdout",
     "output_type": "stream",
     "text": [
      "[(0, 1), (0, 3), (0, 2), (1, 4), (1, 3), (2, 4), (2, 5), (4, 5), (3, 5)]\n",
      "[(0, 1), (0, 2), (1, 4), (2, 4), (2, 5), (4, 5)]\n"
     ]
    }
   ],
   "source": [
    "graph = nx.random_regular_graph(3, 6)\n",
    "print(graph.edges())\n",
    "nodes = list(graph)\n",
    "nodes.remove(3)\n",
    "graph2 = graph.subgraph(nodes).copy()\n",
    "\n",
    "print(graph2.edges())\n"
   ]
  },
  {
   "cell_type": "code",
   "execution_count": 7,
   "metadata": {},
   "outputs": [
    {
     "data": {
      "text/plain": [
       "2"
      ]
     },
     "execution_count": 7,
     "metadata": {},
     "output_type": "execute_result"
    }
   ],
   "source": [
    "l = list((1, 2))\n",
    "l[1]"
   ]
  },
  {
   "cell_type": "code",
   "execution_count": 41,
   "metadata": {},
   "outputs": [],
   "source": [
    "graph = nx.random_regular_graph(3, 6)\n",
    "\n",
    "problem = Generator.MAXCUT(graph)\n",
    "expectation_values_qtensor = QtensorQAOAExpectationValuesQUBO(problem, 2, initialization='random', opt=torch.optim.SGD, opt_kwargs=dict(lr=0.0001))\n",
    "#expectation_values_qtensor = QtensorQAOAExpectationValuesMAXCUT(problem, p, initialization='fixed_angles_optimization', opt=torch.optim.SGD, opt_kwargs=dict(lr=0.0001))    \n",
    "#RQAOA_qtensor = RQAOA(expectation_values_qtensor, 5, type_of_problem=\"MAXCUT\")\n",
    "RQAOA_qtensor = RQAOA.RQAOA(expectation_values_qtensor, 5, type_of_problem=\"MAXCUT\")"
   ]
  },
  {
   "cell_type": "code",
   "execution_count": 42,
   "metadata": {},
   "outputs": [
    {
     "name": "stderr",
     "output_type": "stream",
     "text": [
      "100%|██████████| 50/50 [00:07<00:00,  6.52it/s]\n"
     ]
    },
    {
     "data": {
      "text/plain": [
       "([3, 1], -1.0, 0.5559490567441319)"
      ]
     },
     "execution_count": 42,
     "metadata": {},
     "output_type": "execute_result"
    }
   ],
   "source": [
    "expectation_values_qtensor.optimize()"
   ]
  },
  {
   "cell_type": "code",
   "execution_count": 43,
   "metadata": {},
   "outputs": [
    {
     "data": {
      "text/plain": [
       "{frozenset({1, 3}): -0.5559490567441319,\n",
       " frozenset({2, 3}): -0.31120240697005913,\n",
       " frozenset({1, 4}): -0.3112024069700591,\n",
       " frozenset({2, 4}): -0.5559490567441319,\n",
       " frozenset({2, 5}): -0.3112024069700591,\n",
       " frozenset({3, 5}): -0.31120240697005913,\n",
       " frozenset({1, 6}): -0.3112024069700591,\n",
       " frozenset({4, 6}): -0.3112024069700592,\n",
       " frozenset({5, 6}): -0.5559490567441319}"
      ]
     },
     "execution_count": 43,
     "metadata": {},
     "output_type": "execute_result"
    }
   ],
   "source": [
    "expectation_values_qtensor.expect_val_dict"
   ]
  },
  {
   "cell_type": "code",
   "execution_count": 44,
   "metadata": {},
   "outputs": [
    {
     "data": {
      "text/plain": [
       "[(1, 3), (2, 3), (1, 4), (2, 4), (2, 5), (3, 5), (1, 6), (4, 6), (5, 6)]"
      ]
     },
     "execution_count": 44,
     "metadata": {},
     "output_type": "execute_result"
    }
   ],
   "source": [
    "Corkeys = [(i, j) for i, j in expectation_values_qtensor.expect_val_dict.keys()]\n",
    "Corkeys"
   ]
  },
  {
   "cell_type": "code",
   "execution_count": 48,
   "metadata": {},
   "outputs": [
    {
     "data": {
      "text/plain": [
       "-0.5559490567441319"
      ]
     },
     "execution_count": 48,
     "metadata": {},
     "output_type": "execute_result"
    }
   ],
   "source": [
    "expectation_values_qtensor.expect_val_dict[frozenset(Corkeys[0])]"
   ]
  },
  {
   "cell_type": "code",
   "execution_count": 49,
   "metadata": {},
   "outputs": [
    {
     "data": {
      "text/plain": [
       "[(1, 4), (2, 5), (1, 6), (2, 3), (3, 5), (4, 6), (1, 3), (2, 4), (5, 6)]"
      ]
     },
     "execution_count": 49,
     "metadata": {},
     "output_type": "execute_result"
    }
   ],
   "source": [
    "Corkeys.sort(key=lambda x: np.abs(expectation_values_qtensor.expect_val_dict[frozenset(x)]))\n",
    "Corkeys"
   ]
  },
  {
   "cell_type": "code",
   "execution_count": 31,
   "metadata": {},
   "outputs": [
    {
     "name": "stdout",
     "output_type": "stream",
     "text": [
      "[9, 1, 2, 3, 4, 5, 6]\n"
     ]
    }
   ],
   "source": [
    "print(RQAOA_qtensor.problem.position_translater)"
   ]
  },
  {
   "cell_type": "code",
   "execution_count": 30,
   "metadata": {},
   "outputs": [],
   "source": [
    "RQAOA_qtensor.problem.position_translater[0] = 9"
   ]
  },
  {
   "cell_type": "code",
   "execution_count": 28,
   "metadata": {},
   "outputs": [],
   "source": [
    "RQAOA_qtensor.expectation_values.problem.position_translater[0] = 8"
   ]
  },
  {
   "cell_type": "code",
   "execution_count": 32,
   "metadata": {},
   "outputs": [
    {
     "name": "stdout",
     "output_type": "stream",
     "text": [
      "[9, 1, 2, 3, 4, 5, 6]\n"
     ]
    }
   ],
   "source": [
    "print(RQAOA_qtensor.expectation_values.problem.position_translater)"
   ]
  },
  {
   "cell_type": "code",
   "execution_count": 17,
   "metadata": {},
   "outputs": [
    {
     "name": "stdout",
     "output_type": "stream",
     "text": [
      "[[1. 0. 0. 0. 0. 0. 0.]\n",
      " [0. 0. 0. 0. 0. 0. 0.]\n",
      " [0. 1. 0. 0. 0. 0. 0.]\n",
      " [0. 0. 1. 0. 0. 0. 0.]\n",
      " [0. 1. 0. 1. 0. 0. 0.]\n",
      " [0. 1. 1. 0. 0. 0. 0.]\n",
      " [0. 0. 0. 1. 1. 1. 0.]]\n"
     ]
    }
   ],
   "source": [
    "print(RQAOA_qtensor.expectation_values.problem.matrix)"
   ]
  },
  {
   "cell_type": "code",
   "execution_count": 18,
   "metadata": {},
   "outputs": [],
   "source": [
    "RQAOA_qtensor.expectation_values.problem.matrix[0, 0] = 0"
   ]
  },
  {
   "cell_type": "code",
   "execution_count": 20,
   "metadata": {},
   "outputs": [
    {
     "name": "stdout",
     "output_type": "stream",
     "text": [
      "[[0. 0. 0. 0. 0. 0. 0.]\n",
      " [0. 0. 0. 0. 0. 0. 0.]\n",
      " [0. 1. 0. 0. 0. 0. 0.]\n",
      " [0. 0. 1. 0. 0. 0. 0.]\n",
      " [0. 1. 0. 1. 0. 0. 0.]\n",
      " [0. 1. 1. 0. 0. 0. 0.]\n",
      " [0. 0. 0. 1. 1. 1. 0.]]\n"
     ]
    }
   ],
   "source": [
    "print(RQAOA_qtensor.problem.matrix)"
   ]
  },
  {
   "cell_type": "code",
   "execution_count": null,
   "metadata": {},
   "outputs": [],
   "source": []
  }
 ],
 "metadata": {
  "kernelspec": {
   "display_name": "env5",
   "language": "python",
   "name": "python3"
  },
  "language_info": {
   "codemirror_mode": {
    "name": "ipython",
    "version": 3
   },
   "file_extension": ".py",
   "mimetype": "text/x-python",
   "name": "python",
   "nbconvert_exporter": "python",
   "pygments_lexer": "ipython3",
   "version": "3.9.18"
  },
  "orig_nbformat": 4
 },
 "nbformat": 4,
 "nbformat_minor": 2
}
