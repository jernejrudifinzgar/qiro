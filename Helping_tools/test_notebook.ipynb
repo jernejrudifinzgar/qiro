{
 "cells": [
  {
   "cell_type": "code",
   "execution_count": 1,
   "metadata": {},
   "outputs": [
    {
     "name": "stderr",
     "output_type": "stream",
     "text": [
      "/Users/Q642074/miniconda3/envs/qiro/lib/python3.9/site-packages/tqdm/auto.py:21: TqdmWarning: IProgress not found. Please update jupyter and ipywidgets. See https://ipywidgets.readthedocs.io/en/stable/user_install.html\n",
      "  from .autonotebook import tqdm as notebook_tqdm\n"
     ]
    }
   ],
   "source": [
    "# load the module\n",
    "%load_ext autoreload\n",
    "%autoreload 2\n",
    "\n",
    "import sys \n",
    "sys.path.append(\"../Qtensor\")\n",
    "sys.path.append(\"../Qtensor/qtree_git\")\n",
    "sys.path.append(\"../Qtensor/qtree_git/qtree\")\n",
    "sys.path.append(\"..\")\n",
    "\n",
    "\n",
    "from qtensor import ZZQtreeQAOAComposer, ZZQtreeQAOAComposer_MIS, ZZQtreeQAOAComposer_MAXCUT\n",
    "from qtensor import QAOAQtreeSimulator, QAOAQtreeSimulator_MIS, QAOAQtreeSimulator_MAXCUT\n",
    "from qtensor.contraction_backends import TorchBackend\n",
    "import Generating_Problems as Generator\n",
    "from Calculating_Expectation_Values import SingleLayerQAOAExpectationValues, QtensorQAOAExpectationValuesMIS,QtensorQAOAExpectationValuesMAXCUT,QtensorQAOAExpectationValuesQUBO\n",
    "from QIRO import QIRO_MIS\n",
    "import RQAOA\n",
    "import torch\n",
    "import qtensor\n",
    "import networkx as nx\n",
    "import numpy as np\n",
    "from scipy.optimize import minimize\n",
    "import tqdm\n",
    "from scipy.optimize import Bounds\n",
    "import pprint\n",
    "from functools import partial\n",
    "import random\n",
    "import json\n",
    "import matplotlib.pyplot as plt"
   ]
  },
  {
   "cell_type": "code",
   "execution_count": 15,
   "metadata": {},
   "outputs": [],
   "source": [
    "graph = nx.random_regular_graph(3, 12)"
   ]
  },
  {
   "cell_type": "code",
   "execution_count": 16,
   "metadata": {},
   "outputs": [
    {
     "name": "stderr",
     "output_type": "stream",
     "text": [
      "100%|██████████| 50/50 [00:10<00:00,  4.79it/s]\n"
     ]
    }
   ],
   "source": [
    "problem = Generator.MIS(graph)\n",
    "expectation_values_qtensor = QtensorQAOAExpectationValuesQUBO(problem, 1, opt=torch.optim.SGD, opt_kwargs=dict(lr=0.0001))\n",
    "expectation_values_qtensor.optimize()\n",
    "\n",
    "correlations_qtensor=expectation_values_qtensor.expect_val_dict\n",
    "\n",
    "#expectation_values_qtensor = QtensorQAOAExpectationValuesMAXCUT(problem, p, initialization='fixed_angles_optimization', opt=torch.optim.SGD, opt_kwargs=dict(lr=0.0001))    \n",
    "#RQAOA_qtensor = RQAOA(expectation_values_qtensor, 5, type_of_problem=\"MAXCUT\")\n",
    "#RQAOA_qtensor = RQAOA.RQAOA(expectation_values_qtensor, 5, type_of_problem=\"MAXCUT\")"
   ]
  },
  {
   "cell_type": "code",
   "execution_count": 17,
   "metadata": {},
   "outputs": [
    {
     "name": "stdout",
     "output_type": "stream",
     "text": [
      "{frozenset({1}): 0.09980558616449625, frozenset({2}): 0.09980558616449614, frozenset({2, 3}): -0.14537842901707052, frozenset({3}): 0.09980558616449614, frozenset({1, 4}): -0.1378655560788435, frozenset({4}): 0.09980558616449603, frozenset({5}): 0.09980558616449614, frozenset({5, 6}): -0.13029394355757248, frozenset({6}): 0.09980558616449603, frozenset({3, 7}): -0.14537842901707052, frozenset({5, 7}): -0.13786555607884346, frozenset({6, 7}): -0.13786555607884346, frozenset({7}): 0.09980558616449603, frozenset({8, 1}): -0.13786555607884346, frozenset({8, 3}): -0.14537842901707052, frozenset({8, 4}): -0.13786555607884346, frozenset({8}): 0.09980558616449603, frozenset({9, 2}): -0.1453784290170706, frozenset({9, 4}): -0.14537842901707052, frozenset({9}): 0.09980558616449625, frozenset({9, 10}): -0.14537842901707052, frozenset({10}): 0.09980558616449614, frozenset({11, 5}): -0.13786555607884346, frozenset({11, 6}): -0.13786555607884346, frozenset({10, 11}): -0.14537842901707052, frozenset({11}): 0.09980558616449614, frozenset({1, 12}): -0.14537842901707052, frozenset({2, 12}): -0.14537842901707052, frozenset({10, 12}): -0.14537842901707052, frozenset({12}): 0.09980558616449603}\n"
     ]
    }
   ],
   "source": [
    "print(correlations_qtensor)"
   ]
  },
  {
   "cell_type": "code",
   "execution_count": 18,
   "metadata": {},
   "outputs": [],
   "source": [
    "for key in correlations_qtensor.copy().keys():\n",
    "                if len(key)==2:\n",
    "                    del correlations_qtensor[key]"
   ]
  },
  {
   "cell_type": "code",
   "execution_count": 19,
   "metadata": {},
   "outputs": [
    {
     "name": "stdout",
     "output_type": "stream",
     "text": [
      "{frozenset({1}): 0.09980558616449625, frozenset({2}): 0.09980558616449614, frozenset({3}): 0.09980558616449614, frozenset({4}): 0.09980558616449603, frozenset({5}): 0.09980558616449614, frozenset({6}): 0.09980558616449603, frozenset({7}): 0.09980558616449603, frozenset({8}): 0.09980558616449603, frozenset({9}): 0.09980558616449625, frozenset({10}): 0.09980558616449614, frozenset({11}): 0.09980558616449614, frozenset({12}): 0.09980558616449603}\n"
     ]
    }
   ],
   "source": [
    "print(correlations_qtensor)"
   ]
  },
  {
   "cell_type": "code",
   "execution_count": null,
   "metadata": {},
   "outputs": [],
   "source": []
  },
  {
   "cell_type": "code",
   "execution_count": null,
   "metadata": {},
   "outputs": [],
   "source": []
  },
  {
   "cell_type": "code",
   "execution_count": null,
   "metadata": {},
   "outputs": [],
   "source": []
  },
  {
   "cell_type": "code",
   "execution_count": 3,
   "metadata": {},
   "outputs": [],
   "source": [
    "import pennylane as qml\n",
    "from pennylane import numpy as np\n",
    "\n",
    "np.random.seed(42)"
   ]
  },
  {
   "cell_type": "code",
   "execution_count": 4,
   "metadata": {},
   "outputs": [],
   "source": [
    "n_wires = graph.number_of_nodes()\n",
    "#graph = [(0, 1), (0, 3), (1, 2), (2, 3)]\n",
    "\n",
    "\n",
    "\n",
    "# unitary operator U_B with parameter beta\n",
    "def U_B(beta):\n",
    "    for wire in range(n_wires):\n",
    "        qml.RX(2 * beta, wires=wire)\n",
    "\n",
    "\n",
    "# unitary operator U_C with parameter gamma\n",
    "def U_C(gamma):\n",
    "    for edge in graph.edges():\n",
    "        wire1 = edge[0]\n",
    "        wire2 = edge[1]\n",
    "        qml.CNOT(wires=[wire1, wire2])\n",
    "        qml.RZ(gamma, wires=wire2)\n",
    "        qml.CNOT(wires=[wire1, wire2])"
   ]
  },
  {
   "cell_type": "code",
   "execution_count": 5,
   "metadata": {},
   "outputs": [],
   "source": [
    "def bitstring_to_int(bit_string_sample):\n",
    "    bit_string = \"\".join(str(bs) for bs in bit_string_sample)\n",
    "    return int(bit_string, base=2)"
   ]
  },
  {
   "cell_type": "code",
   "execution_count": 7,
   "metadata": {},
   "outputs": [],
   "source": [
    "#dev = qml.device(\"default.qubit\", wires=n_wires)\n",
    "dev = qml.device(\"qulacs.simulator\", wires=n_wires)\n"
   ]
  },
  {
   "cell_type": "code",
   "execution_count": 8,
   "metadata": {},
   "outputs": [
    {
     "name": "stdout",
     "output_type": "stream",
     "text": [
      "\n",
      "p=1\n",
      "Objective after step     5:  12.2700095\n",
      "Objective after step    10:  16.2719592\n",
      "Objective after step    15:  16.4453517\n",
      "Objective after step    20:  16.4559398\n",
      "Objective after step    25:  16.4561084\n",
      "Objective after step    30:  16.4561110\n",
      "Objective after step    35:  16.4561110\n",
      "Objective after step    40:  16.4561110\n",
      "Objective after step    45:  16.4561110\n",
      "Objective after step    50:  16.4561110\n",
      "Optimized (gamma, beta) vectors:\n",
      "[[-0.60695569]\n",
      " [ 0.38379082]]\n",
      "-0.3845718386878988\n",
      "-0.38457183868789313\n",
      "-0.38457183868789785\n",
      "-0.3845718386878986\n",
      "-0.38457183868789646\n",
      "-0.3845718386879023\n",
      "-0.3845718386878964\n",
      "-0.38457183868790107\n",
      "-0.38457183868789785\n",
      "-0.3845718386879032\n",
      "-0.3845718386879\n",
      "-0.3845718386879004\n",
      "-0.3845718386878947\n",
      "-0.38457183868788897\n",
      "-0.38457183868789446\n",
      "-0.3845718386879005\n",
      "-0.3845718386879035\n",
      "-0.3845718386879027\n",
      "-0.2787378159286318\n",
      "-0.27873781592863045\n",
      "-0.3845718386879021\n",
      "-0.2787378159286355\n",
      "-0.3845718386879007\n",
      "-0.38457183868789896\n",
      "\n",
      "p=2\n",
      "Objective after step     5:  14.8898736\n",
      "Objective after step    10:  17.2949472\n",
      "Objective after step    15:  17.3749659\n",
      "Objective after step    20:  17.4313060\n",
      "Objective after step    25:  17.4895852\n",
      "Objective after step    30:  17.5501369\n",
      "Objective after step    35:  17.6112390\n",
      "Objective after step    40:  17.6692966\n",
      "Objective after step    45:  17.7194328\n",
      "Objective after step    50:  17.7579217\n",
      "Optimized (gamma, beta) vectors:\n",
      "[[-0.74640173  0.31202901]\n",
      " [-0.40093047 -0.7564536 ]]\n",
      "-0.5285411618419594\n",
      "-0.5333926019643939\n",
      "-0.46831585798102243\n",
      "-0.5285411618419489\n",
      "-0.5920943846974654\n",
      "-0.4812940945695691\n",
      "-0.5190923136783929\n",
      "-0.47422382343766517\n",
      "-0.47560569787503565\n",
      "-0.47422382343767017\n",
      "-0.5407685077450015\n",
      "-0.5362771984263802\n",
      "-0.47560569787503953\n",
      "-0.5362771984263849\n",
      "-0.48296836775097957\n",
      "-0.5190923136783885\n",
      "-0.4812940945695659\n",
      "-0.5266089669348677\n",
      "-0.3041492866739835\n",
      "-0.3041492866739823\n",
      "-0.48129409456957073\n",
      "-0.29651550572580204\n",
      "-0.48129409456956984\n",
      "-0.47422382343766695\n"
     ]
    }
   ],
   "source": [
    "@qml.qnode(dev)\n",
    "def circuit(gammas, betas, edge=None, n_layers=1):\n",
    "    # apply Hadamards to get the n qubit |+> state\n",
    "    for wire in range(n_wires):\n",
    "        qml.Hadamard(wires=wire)\n",
    "    # p instances of unitary operators\n",
    "    for i in range(n_layers):\n",
    "        U_C(gammas[i])\n",
    "        U_B(betas[i])\n",
    "    if edge is None:\n",
    "        # measurement phase\n",
    "        return qml.sample()\n",
    "    # during the optimization phase we are evaluating a term\n",
    "    # in the objective using expval\n",
    "    H = qml.PauliZ(edge[0]) @ qml.PauliZ(edge[1])\n",
    "    return qml.expval(H)\n",
    "\n",
    "def qaoa_maxcut(n_layers=1):\n",
    "    print(\"\\np={:d}\".format(n_layers))\n",
    "\n",
    "    # initialize the parameters near zero\n",
    "    init_params = 0.01 * np.random.rand(2, n_layers, requires_grad=True)\n",
    "\n",
    "    # minimize the negative of the objective function\n",
    "    def objective(params):\n",
    "        gammas = params[0]\n",
    "        betas = params[1]\n",
    "        neg_obj = 0\n",
    "        for edge in graph.edges():\n",
    "            # objective for the MaxCut problem\n",
    "            neg_obj -= 0.5 * (1 - circuit(gammas, betas, edge=edge, n_layers=n_layers))\n",
    "        return neg_obj\n",
    "    \n",
    "    def correlations(params):\n",
    "        gammas = params[0]\n",
    "        betas = params[1]\n",
    "        correlations_dict={}\n",
    "        for edge in graph.edges():\n",
    "            correlation = circuit(gammas, betas, edge=edge, n_layers=n_layers)\n",
    "            correlations_dict[edge]=correlation\n",
    "            print(correlation)\n",
    "        return correlations_dict\n",
    "\n",
    "    # initialize optimizer: Adagrad works well empirically\n",
    "    opt = qml.AdagradOptimizer(stepsize=0.3)\n",
    "\n",
    "    # optimize parameters in objective\n",
    "    params = init_params\n",
    "    steps = 50\n",
    "    for i in range(steps):\n",
    "        params = opt.step(objective, params)\n",
    "        if (i + 1) % 5 == 0:\n",
    "            print(\"Objective after step {:5d}: {: .7f}\".format(i + 1, -objective(params)))\n",
    "\n",
    "    # sample measured bitstrings 100 times\n",
    "    bit_strings = []\n",
    "    n_samples = 100\n",
    "    #for i in range(0, n_samples):\n",
    "    #    bit_strings.append(bitstring_to_int(circuit(params[0], params[1], edge=None, n_layers=n_layers)))\n",
    "    # print optimal parameters and most frequently sampled bitstring\n",
    "    #counts = np.bincount(np.array(bit_strings))\n",
    "    #most_freq_bit_string = np.argmax(counts)\n",
    "    print(\"Optimized (gamma, beta) vectors:\\n{}\".format(params[:, :n_layers]))\n",
    "    #print(\"Most frequently sampled bit string is: {:04b}\".format(most_freq_bit_string))\n",
    "\n",
    "    return -objective(params), bit_strings, correlations(params)\n",
    "\n",
    "\n",
    "# perform qaoa on our graph with p=1,2 and\n",
    "# keep the bitstring sample lists\n",
    "objective_p1, bitstring_p1, correlations_statevector_p1 = qaoa_maxcut(n_layers=1)\n",
    "objective_p2, bitstring_p2, correlations_statevector_p2 = qaoa_maxcut(n_layers=2)"
   ]
  },
  {
   "cell_type": "code",
   "execution_count": null,
   "metadata": {},
   "outputs": [],
   "source": [
    "init_params = 0.01 * np.random.rand(2, 2, requires_grad=True)"
   ]
  },
  {
   "cell_type": "code",
   "execution_count": 10,
   "metadata": {},
   "outputs": [
    {
     "name": "stdout",
     "output_type": "stream",
     "text": [
      "{frozenset({1, 3}): -0.5195378626403508, frozenset({2, 3}): -0.5195378626403511, frozenset({2, 4}): -0.5233645873982712, frozenset({1, 5}): -0.516984800433533, frozenset({2, 7}): -0.47191346438026827, frozenset({8, 5}): -0.4594409586704471, frozenset({9, 7}): -0.5040662422480026, frozenset({10, 3}): -0.5699120562826321, frozenset({10, 4}): -0.5129184531209331, frozenset({10, 5}): -0.5129184531209331, frozenset({9, 11}): -0.2964922910605696, frozenset({12, 6}): -0.5040662422480028, frozenset({9, 12}): -0.29034496551296707, frozenset({11, 12}): -0.29649229106056957, frozenset({8, 13}): -0.4644419801010143, frozenset({4, 14}): -0.4656549226541945, frozenset({6, 14}): -0.4704690185036834, frozenset({8, 14}): -0.46444198010101434, frozenset({6, 15}): -0.4644419801010143, frozenset({15, 7}): -0.4704690185036834, frozenset({13, 15}): -0.4704690185036834, frozenset({16, 1}): -0.46565492265419445, frozenset({16, 11}): -0.510256296288494, frozenset({16, 13}): -0.47046901850368344}\n",
      "{(4, 9): tensor(-0.5286011, requires_grad=True), (4, 0): tensor(-0.53347183, requires_grad=True), (4, 7): tensor(-0.4683591, requires_grad=True), (9, 3): tensor(-0.5286011, requires_grad=True), (9, 2): tensor(-0.59217878, requires_grad=True), (5, 13): tensor(-0.48138085, requires_grad=True), (5, 11): tensor(-0.51932586, requires_grad=True), (5, 14): tensor(-0.47428897, requires_grad=True), (13, 3): tensor(-0.47567167, requires_grad=True), (13, 7): tensor(-0.47428897, requires_grad=True), (3, 1): tensor(-0.5408707, requires_grad=True), (0, 2): tensor(-0.53636256, requires_grad=True), (0, 15): tensor(-0.47567167, requires_grad=True), (2, 1): tensor(-0.53636256, requires_grad=True), (1, 6): tensor(-0.48305764, requires_grad=True), (6, 8): tensor(-0.51932586, requires_grad=True), (6, 14): tensor(-0.48138085, requires_grad=True), (10, 15): tensor(-0.52686705, requires_grad=True), (10, 11): tensor(-0.30431171, requires_grad=True), (10, 8): tensor(-0.30431171, requires_grad=True), (15, 12): tensor(-0.48138085, requires_grad=True), (8, 11): tensor(-0.29665269, requires_grad=True), (14, 12): tensor(-0.48138085, requires_grad=True), (7, 12): tensor(-0.47428897, requires_grad=True)}\n"
     ]
    }
   ],
   "source": [
    "print(correlations_qtensor)\n",
    "print(correlations_statevector_p2)"
   ]
  },
  {
   "cell_type": "code",
   "execution_count": 18,
   "metadata": {},
   "outputs": [
    {
     "name": "stdout",
     "output_type": "stream",
     "text": [
      "-0.5286010998697231\n",
      "-0.5129184531209331\n",
      "\n",
      "-0.5334718279621588\n",
      "-0.516984800433533\n",
      "\n",
      "-0.46835909753484806\n",
      "-0.4594409586704471\n",
      "\n",
      "-0.5286010998697231\n",
      "-0.5129184531209331\n",
      "\n",
      "-0.5921787774012762\n",
      "-0.5699120562826321\n",
      "\n",
      "-0.481380854541618\n",
      "-0.4704690185036834\n",
      "\n",
      "-0.5193258570264919\n",
      "-0.5040662422480028\n",
      "\n",
      "-0.4742889667014641\n",
      "-0.4644419801010143\n",
      "\n",
      "-0.4756716680196184\n",
      "-0.4656549226541945\n",
      "\n",
      "-0.47428896670146575\n",
      "-0.46444198010101434\n",
      "\n",
      "-0.5408707005761172\n",
      "-0.5233645873982712\n",
      "\n",
      "-0.5363625556914767\n",
      "-0.5195378626403508\n",
      "\n",
      "-0.4756716680196171\n",
      "-0.46565492265419445\n",
      "\n",
      "-0.5363625556914767\n",
      "-0.5195378626403511\n",
      "\n",
      "-0.4830576391979945\n",
      "-0.47191346438026827\n",
      "\n",
      "-0.5193258570264916\n",
      "-0.5040662422480026\n",
      "\n",
      "-0.48138085454161705\n",
      "-0.4704690185036834\n",
      "\n",
      "-0.526867046848258\n",
      "-0.510256296288494\n",
      "\n",
      "-0.30431171492413833\n",
      "-0.29649229106056957\n",
      "\n",
      "-0.3043117149241379\n",
      "-0.2964922910605696\n",
      "\n",
      "-0.48138085454161805\n",
      "-0.47046901850368344\n",
      "\n",
      "-0.29665268510471143\n",
      "-0.29034496551296707\n",
      "\n",
      "-0.4813808545416143\n",
      "-0.4704690185036834\n",
      "\n",
      "-0.4742889667014655\n",
      "-0.4644419801010143\n",
      "\n"
     ]
    }
   ],
   "source": [
    "for i, j in correlations_statevector_p2.keys():\n",
    "    print(correlations_statevector_p2[i, j])\n",
    "    print(correlations_qtensor[frozenset({i+1,j+1})])\n",
    "    print()"
   ]
  },
  {
   "cell_type": "code",
   "execution_count": 13,
   "metadata": {},
   "outputs": [
    {
     "data": {
      "image/png": "[encoded data removed]",
      "text/plain": [
       "<Figure size 800x400 with 2 Axes>"
      ]
     },
     "metadata": {},
     "output_type": "display_data"
    }
   ],
   "source": [
    "import matplotlib.pyplot as plt\n",
    "\n",
    "xticks = range(0, 16)\n",
    "xtick_labels = list(map(lambda x: format(x, \"04b\"), xticks))\n",
    "bins = np.arange(0, 17) - 0.5\n",
    "\n",
    "fig, (ax1, ax2) = plt.subplots(1, 2, figsize=(8, 4))\n",
    "plt.subplot(1, 2, 1)\n",
    "plt.title(\"n_layers=1\")\n",
    "plt.xlabel(\"bitstrings\")\n",
    "plt.ylabel(\"freq.\")\n",
    "plt.xticks(xticks, xtick_labels, rotation=\"vertical\")\n",
    "plt.hist(bitstrings1, bins=bins)\n",
    "plt.subplot(1, 2, 2)\n",
    "plt.title(\"n_layers=2\")\n",
    "plt.xlabel(\"bitstrings\")\n",
    "plt.ylabel(\"freq.\")\n",
    "plt.xticks(xticks, xtick_labels, rotation=\"vertical\")\n",
    "plt.hist(bitstrings2, bins=bins)\n",
    "plt.tight_layout()\n",
    "plt.show()"
   ]
  },
  {
   "cell_type": "code",
   "execution_count": 41,
   "metadata": {},
   "outputs": [],
   "source": [
    "dev = qml.device(\"default.qubit\", wires=2)\n",
    "\n",
    "@qml.qnode(dev)\n",
    "def circuit(x):\n",
    "    qml.RX(x, wires=0)\n",
    "    qml.Hadamard(wires=1)\n",
    "    qml.CNOT(wires=[0, 1])\n",
    "    return qml.expval(qml.PauliY(0))"
   ]
  },
  {
   "cell_type": "code",
   "execution_count": 42,
   "metadata": {},
   "outputs": [
    {
     "data": {
      "text/plain": [
       "tensor(-0.47942554, requires_grad=True)"
      ]
     },
     "execution_count": 42,
     "metadata": {},
     "output_type": "execute_result"
    }
   ],
   "source": [
    "circuit(0.5)"
   ]
  },
  {
   "cell_type": "code",
   "execution_count": null,
   "metadata": {},
   "outputs": [],
   "source": []
  }
 ],
 "metadata": {
  "kernelspec": {
   "display_name": "env5",
   "language": "python",
   "name": "python3"
  },
  "language_info": {
   "codemirror_mode": {
    "name": "ipython",
    "version": 3
   },
   "file_extension": ".py",
   "mimetype": "text/x-python",
   "name": "python",
   "nbconvert_exporter": "python",
   "pygments_lexer": "ipython3",
   "version": "3.9.18"
  },
  "orig_nbformat": 4
 },
 "nbformat": 4,
 "nbformat_minor": 2
}
